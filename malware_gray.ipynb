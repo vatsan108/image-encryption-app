{
  "cells": [
    {
      "cell_type": "markdown",
      "metadata": {
        "id": "view-in-github",
        "colab_type": "text"
      },
      "source": [
        "<a href=\"https://colab.research.google.com/github/vatsan108/image-encryption-app/blob/master/malware_gray.ipynb\" target=\"_parent\"><img src=\"https://colab.research.google.com/assets/colab-badge.svg\" alt=\"Open In Colab\"/></a>"
      ]
    },
    {
      "cell_type": "code",
      "execution_count": null,
      "metadata": {
        "colab": {
          "base_uri": "https://localhost:8080/"
        },
        "id": "C5BaNmQDmZrp",
        "outputId": "7ec1f297-4001-4bf4-93db-deeb210ae5ad"
      },
      "outputs": [
        {
          "output_type": "stream",
          "name": "stdout",
          "text": [
            "Mounted at /content/drive\n"
          ]
        }
      ],
      "source": [
        "from google.colab import drive\n",
        "drive.mount('/content/drive')"
      ]
    },
    {
      "cell_type": "code",
      "execution_count": null,
      "metadata": {
        "id": "ZNFcVZqkmhAA"
      },
      "outputs": [],
      "source": [
        "from PIL import Image\n",
        "import numpy as np\n",
        "import os as os\n",
        "import matplotlib.pyplot as plt\n",
        "import collections\n",
        "from collections import Counter\n",
        "from scipy.fftpack import dct\n",
        "from skimage.io import imread\n",
        "from skimage.color import rgb2gray\n",
        "from nltk.util import ngrams\n",
        "import networkx as net\n",
        "import numpy as np\n",
        "from numpy import random"
      ]
    },
    {
      "cell_type": "code",
      "execution_count": null,
      "metadata": {
        "id": "wPx54mpBRQD-"
      },
      "outputs": [],
      "source": [
        "DATA_SOURCE = '/content/drive/MyDrive/grayimages'\n",
        "SPARSE_LOC = '/content/drive/MyDrive/Malware_Detection_Project/BIG_bigram_dct/sparse'\n",
        "DCT_LOC = '/content/drive/MyDrive/grayimages'\n",
        "TRAIN_LABEL = '/content/drive/MyDrive/malware/ms_dataset/2.csv'"
      ]
    },
    {
      "cell_type": "code",
      "execution_count": null,
      "metadata": {
        "id": "rd_GT6xGFzPY"
      },
      "outputs": [],
      "source": [
        "from PIL import Image\n",
        "import numpy as np\n",
        "import os as os\n",
        "import matplotlib.pyplot as plt\n",
        "import collections\n",
        "from collections import Counter\n",
        "from scipy.fftpack import dct\n",
        "from skimage.io import imread\n",
        "from skimage.color import rgb2gray\n",
        "from nltk.util import ngrams\n",
        "import networkx as net\n",
        "import numpy as np\n",
        "from numpy import random\n",
        "import math\n",
        "import pandas as pd\n",
        "import cv2\n",
        "from itertools import islice\n",
        "from tqdm import tqdm"
      ]
    },
    {
      "cell_type": "code",
      "execution_count": null,
      "metadata": {
        "id": "EJOJn2QeFxa9",
        "colab": {
          "base_uri": "https://localhost:8080/",
          "height": 643
        },
        "outputId": "686576ab-4680-44fe-facb-5aa69f97deb5"
      },
      "outputs": [
        {
          "output_type": "stream",
          "name": "stderr",
          "text": [
            "/usr/local/lib/python3.7/dist-packages/ipykernel_launcher.py:112: DeprecationWarning: `np.float` is a deprecated alias for the builtin `float`. To silence this warning, use `float` by itself. Doing this will not modify any behavior and is safe. If you specifically wanted the numpy scalar type, use `np.float64` here.\n",
            "Deprecated in NumPy 1.20; for more details and guidance: https://numpy.org/devdocs/release/1.20.0-notes.html#deprecations\n"
          ]
        },
        {
          "output_type": "stream",
          "name": "stdout",
          "text": [
            "5796\n",
            "GelYcRgt4jkmTw0iKDQW.asm\n"
          ]
        },
        {
          "output_type": "stream",
          "name": "stderr",
          "text": [
            "/usr/local/lib/python3.7/dist-packages/ipykernel_launcher.py:112: DeprecationWarning: `np.float` is a deprecated alias for the builtin `float`. To silence this warning, use `float` by itself. Doing this will not modify any behavior and is safe. If you specifically wanted the numpy scalar type, use `np.float64` here.\n",
            "Deprecated in NumPy 1.20; for more details and guidance: https://numpy.org/devdocs/release/1.20.0-notes.html#deprecations\n"
          ]
        },
        {
          "output_type": "stream",
          "name": "stdout",
          "text": [
            "5797\n",
            "GepfoxXH5VWKnhZzYl6U.asm\n"
          ]
        },
        {
          "output_type": "stream",
          "name": "stderr",
          "text": [
            "/usr/local/lib/python3.7/dist-packages/ipykernel_launcher.py:112: DeprecationWarning: `np.float` is a deprecated alias for the builtin `float`. To silence this warning, use `float` by itself. Doing this will not modify any behavior and is safe. If you specifically wanted the numpy scalar type, use `np.float64` here.\n",
            "Deprecated in NumPy 1.20; for more details and guidance: https://numpy.org/devdocs/release/1.20.0-notes.html#deprecations\n"
          ]
        },
        {
          "output_type": "stream",
          "name": "stdout",
          "text": [
            "5798\n",
            "GewamPurl6D0Fs3zvbon.asm\n"
          ]
        },
        {
          "output_type": "stream",
          "name": "stderr",
          "text": [
            "/usr/local/lib/python3.7/dist-packages/ipykernel_launcher.py:112: DeprecationWarning: `np.float` is a deprecated alias for the builtin `float`. To silence this warning, use `float` by itself. Doing this will not modify any behavior and is safe. If you specifically wanted the numpy scalar type, use `np.float64` here.\n",
            "Deprecated in NumPy 1.20; for more details and guidance: https://numpy.org/devdocs/release/1.20.0-notes.html#deprecations\n"
          ]
        },
        {
          "output_type": "stream",
          "name": "stdout",
          "text": [
            "5799\n",
            "GfCSdcknV4PzMv6Ui9W3.asm\n"
          ]
        },
        {
          "output_type": "error",
          "ename": "KeyboardInterrupt",
          "evalue": "ignored",
          "traceback": [
            "\u001b[0;31m---------------------------------------------------------------------------\u001b[0m",
            "\u001b[0;31mKeyboardInterrupt\u001b[0m                         Traceback (most recent call last)",
            "\u001b[0;32m<ipython-input-9-61709e5243e4>\u001b[0m in \u001b[0;36m<module>\u001b[0;34m()\u001b[0m\n\u001b[1;32m    183\u001b[0m \u001b[0;34m\u001b[0m\u001b[0m\n\u001b[1;32m    184\u001b[0m \u001b[0;32mif\u001b[0m \u001b[0m__name__\u001b[0m \u001b[0;34m==\u001b[0m \u001b[0;34m'__main__'\u001b[0m\u001b[0;34m:\u001b[0m\u001b[0;34m\u001b[0m\u001b[0;34m\u001b[0m\u001b[0m\n\u001b[0;32m--> 185\u001b[0;31m   \u001b[0mdirect_conv\u001b[0m\u001b[0;34m(\u001b[0m\u001b[0;34m)\u001b[0m\u001b[0;34m\u001b[0m\u001b[0;34m\u001b[0m\u001b[0m\n\u001b[0m",
            "\u001b[0;32m<ipython-input-9-61709e5243e4>\u001b[0m in \u001b[0;36mdirect_conv\u001b[0;34m()\u001b[0m\n\u001b[1;32m    144\u001b[0m            \u001b[0mbytefile\u001b[0m \u001b[0;34m=\u001b[0m \u001b[0mdirectory\u001b[0m\u001b[0;34m+\u001b[0m\u001b[0;34m\"/\"\u001b[0m\u001b[0;34m+\u001b[0m\u001b[0msorted_files\u001b[0m\u001b[0;34m[\u001b[0m\u001b[0mi\u001b[0m\u001b[0;34m+\u001b[0m\u001b[0;36m1\u001b[0m\u001b[0;34m]\u001b[0m\u001b[0;34m\u001b[0m\u001b[0;34m\u001b[0m\u001b[0m\n\u001b[1;32m    145\u001b[0m            \u001b[0mop\u001b[0m \u001b[0;34m=\u001b[0m \u001b[0mlist\u001b[0m\u001b[0;34m(\u001b[0m\u001b[0;34m)\u001b[0m\u001b[0;34m\u001b[0m\u001b[0;34m\u001b[0m\u001b[0m\n\u001b[0;32m--> 146\u001b[0;31m            \u001b[0mopcode\u001b[0m \u001b[0;34m=\u001b[0m \u001b[0mextractop\u001b[0m\u001b[0;34m(\u001b[0m\u001b[0mop\u001b[0m\u001b[0;34m,\u001b[0m\u001b[0masmfile\u001b[0m\u001b[0;34m)\u001b[0m\u001b[0;34m\u001b[0m\u001b[0;34m\u001b[0m\u001b[0m\n\u001b[0m\u001b[1;32m    147\u001b[0m           \u001b[0;31m#  print('opcodelen',len(opcode))\u001b[0m\u001b[0;34m\u001b[0m\u001b[0;34m\u001b[0m\u001b[0;34m\u001b[0m\u001b[0m\n\u001b[1;32m    148\u001b[0m            \u001b[0marray\u001b[0m \u001b[0;34m=\u001b[0m \u001b[0mlist\u001b[0m\u001b[0;34m(\u001b[0m\u001b[0;34m)\u001b[0m\u001b[0;34m\u001b[0m\u001b[0;34m\u001b[0m\u001b[0m\n",
            "\u001b[0;32m<ipython-input-9-61709e5243e4>\u001b[0m in \u001b[0;36mextractop\u001b[0;34m(op, name)\u001b[0m\n\u001b[1;32m     25\u001b[0m             \u001b[0ms\u001b[0m \u001b[0;34m=\u001b[0m \u001b[0mi\u001b[0m\u001b[0;34m.\u001b[0m\u001b[0msplit\u001b[0m\u001b[0;34m(\u001b[0m\u001b[0;34m' '\u001b[0m\u001b[0;34m)\u001b[0m\u001b[0;34m\u001b[0m\u001b[0;34m\u001b[0m\u001b[0m\n\u001b[1;32m     26\u001b[0m             \u001b[0;32mfor\u001b[0m \u001b[0mk\u001b[0m \u001b[0;32min\u001b[0m \u001b[0ms\u001b[0m\u001b[0;34m:\u001b[0m\u001b[0;34m\u001b[0m\u001b[0;34m\u001b[0m\u001b[0m\n\u001b[0;32m---> 27\u001b[0;31m                 \u001b[0;32mif\u001b[0m \u001b[0mk\u001b[0m \u001b[0;32min\u001b[0m \u001b[0mli\u001b[0m\u001b[0;34m:\u001b[0m\u001b[0;34m\u001b[0m\u001b[0;34m\u001b[0m\u001b[0m\n\u001b[0m\u001b[1;32m     28\u001b[0m                   \u001b[0mop\u001b[0m\u001b[0;34m.\u001b[0m\u001b[0mappend\u001b[0m\u001b[0;34m(\u001b[0m\u001b[0mk\u001b[0m\u001b[0;34m)\u001b[0m\u001b[0;34m\u001b[0m\u001b[0;34m\u001b[0m\u001b[0m\n\u001b[1;32m     29\u001b[0m     \u001b[0;31m# print(op)\u001b[0m\u001b[0;34m\u001b[0m\u001b[0;34m\u001b[0m\u001b[0;34m\u001b[0m\u001b[0m\n",
            "\u001b[0;31mKeyboardInterrupt\u001b[0m: "
          ]
        }
      ],
      "source": [
        "%matplotlib inline\n",
        "import re\n",
        "import os\n",
        "# def con_and_save(arr, name):\n",
        "#   print('Processing ' + name)\n",
        "#   if arr.shape[1] != 16: # not hex\n",
        "#     assert(False)\n",
        "#   b=int((arr.shape[0]*16)**(0.5))   \n",
        "#   b=2**(int(np.log(b)/np.log(2))+1) \n",
        "#   a=int(arr.shape[0]*16/b)\n",
        "#   arr=arr[:a*b//16,:]\n",
        "#   arr=np.reshape(arr,(a,b))\n",
        "#   im=Image.fromarray(np.uint8(arr))\n",
        "#   im.save('/content/image/' + name + '.png', \"PNG\")\n",
        "#   return im\n",
        "\n",
        "# def wordvec(op):\n",
        "  \n",
        "def extractop(op,name):\n",
        "    \n",
        "    li = ['db', 'fdivrp', 'fstp', 'div', 'ja', 'pop', 'jnz', 'and', 'movsx', 'jnb', 'byte', 'eax', 'call', 'fstcw', 'CC', 'not', 'shl', 'setz', 'jns', 'imul', 'stmxcsr', 'jl', 'lea', 'jle', 'mov', 'xor', 'jz', 'mul', 'cmp', 'sar', 'movsd', 'fnclex', 'fldcw', 'edx', 'nop', 'offset', 'jg', 'ecx', 'leave', 'push', 'ebx', 'stosd', 'wait', 'fistp', 'esp', 'movzx', 'sub', 'sbb', 'fnstsw', 'align', 'inc', 'or', 'cdq', 'test', 'jb', 'esi', 'jbe', 'edi', 'jmp', 'fldpi', 'retn', 'dword', 'fldz', 'ldmxcsr', 'fld1', 'fld', 'setnle', 'fstsw', 'neg', 'rep', 'jge', 'setnz', 'shr', 'retf', 'dec', 'add', 'xchg', 'ror', 'rol', 'rtn']\n",
        "    # op = list()\n",
        "    with open(name,'r',encoding = \"utf-8\",errors=\"ignore\") as fin:\n",
        "        for i in fin:\n",
        "            s = i.split(' ')\n",
        "            for k in s:\n",
        "                if k in li:\n",
        "                  op.append(k)\n",
        "    # print(op)\n",
        "    return op   \n",
        "\n",
        "def countbyte(name):      \n",
        "  count = 0\n",
        "  byte = list()\n",
        "  # bytecount = 42*42 \n",
        "  # print(bytecount)\n",
        "  with open(name,'r') as fin:\n",
        "        # while count<= bytecount*100:\n",
        "          for line in fin:\n",
        "            xx=line.split()\n",
        "            for i in xx[1:]:\n",
        "                  if count == (256*256):\n",
        "                    break\n",
        "                  elif i !='??':\n",
        "                    byte.append(int(i,16))\n",
        "                    \n",
        "                    # print(byte.append(int(i,16)))\n",
        "                  else:\n",
        "                    byte.append(0)\n",
        "                  count += 1\n",
        "                 \n",
        "  # print('byte len',len(byte))\n",
        "  return byte\n",
        "\n",
        "\n",
        "def pagetext(res_dct):\n",
        "  with open(\"/content/asmgraph.txt\",'w') as fout:\n",
        "    for key,value in res_dct.items():\n",
        "      fout.write(key+\" \"+value)\n",
        "      fout.write(\"\\n\")\n",
        "    fout.close()\n",
        "  return fout   \n",
        "\n",
        "\n",
        "def pagerank():\n",
        "  FielName='/content/asmgraph.txt'\n",
        "  Graphtype=net.DiGraph()  \n",
        "  G = net.read_edgelist(\n",
        "      FielName, \n",
        "      create_using=Graphtype,\n",
        "      nodetype=str,\n",
        "      data=(('weight',int),1)\n",
        "  )     \n",
        "  pr = net.pagerank(G, alpha=0.9,max_iter=1000 )  \n",
        "  return pr\n",
        "\n",
        "def pr_convert(op,pr):\n",
        "  with open('pageopcode.txt', 'w+') as newfile:\n",
        "   for i in op:\n",
        "      if i in pr.keys():\n",
        "        # newfile.write(line.replace(word,'%f'%value))\n",
        "        newfile.write('%f'%pr.get(i))\n",
        "        newfile.write(\" \")\n",
        "\n",
        "def page_list():\n",
        "  pagelist = list()\n",
        "  count = 0\n",
        "  with open('pageopcode.txt','r') as file:\n",
        "    for line in file:\n",
        "          # for word, value in pr.items():\n",
        "          for value in line.split():\n",
        "            if(count == 80*80):\n",
        "              break\n",
        "            else:\n",
        "              pagelist.append(value)\n",
        "              count += 1\n",
        "\n",
        "  # print(pagelist)\n",
        "  # print(len(pagelist))\n",
        "  return pagelist\n",
        "\n",
        "\n",
        "def normalize(pagelist):\n",
        "  # print(pagelist)\n",
        "  page_len = len(pagelist)\n",
        "  # print('pagelist len',page_len)\n",
        "  page_len = int(math.sqrt(page_len))\n",
        "  newarray = list()\n",
        "  for i in range(page_len*page_len):\n",
        "    newarray.append(i)\n",
        "\n",
        "  pagearray = np.reshape(newarray,(page_len,page_len)).astype(np.float)\n",
        "  # print(pagearray)\n",
        "  try:\n",
        "    pagearray = pagearray - pagearray.min()\n",
        "    pagearray = pagearray/pagearray.max()\n",
        "    pagearray = (pagearray*255).astype(np.uint8)\n",
        "    # print(pagearray)\n",
        "  except ValueError:\n",
        "    pass  \n",
        "  return pagearray\n",
        "\n",
        "def mat_convert(array):\n",
        "    if(len(array)) < 256:\n",
        "      hori_array = np.zeros((256-len(array),len(array[0])),dtype = int)\n",
        "      res_array = np.concatenate((array,hori_array),axis = 0)\n",
        "    if(len(array[0])) < 256:\n",
        "      vert_array = np.zeros((256,(256-len(array[0]))),dtype = int)\n",
        "      res_array = np.concatenate((res_array,vert_array),axis = 1)\n",
        "    # print('res_array',res_array)\n",
        "    return res_array\n",
        "\n",
        "\n",
        "def direct_conv():\n",
        "      directory = '/content/drive/MyDrive/malware/ms_dataset/train_set'\n",
        "      files = os.listdir(directory)\n",
        "      #print(files[0].split(\".\"))\n",
        "      sorted_files = sorted(files)\n",
        "      bytecount=0\n",
        "      count = 0\n",
        "      for i in range(0, len(sorted_files), 2):\n",
        "           print(sorted_files[i])\n",
        "           asmfile = directory+\"/\"+sorted_files[i]\n",
        "           bytefile = directory+\"/\"+sorted_files[i+1] \n",
        "           op = list()\n",
        "           opcode = extractop(op,asmfile)\n",
        "          #  print('opcodelen',len(opcode))\n",
        "           array = list()\n",
        "           res_dct = {op[i]: op[i + 1] for i in range(0, len(op)-1, 1)}\n",
        "          #  print(res_dct)\n",
        "          #  print(len(res_dct))\n",
        "          #  print(opcode)\n",
        "           if (len(opcode)>0):\n",
        "              pagetext(res_dct)\n",
        "              pr = pagerank()\n",
        "              pr_convert(op,pr)\n",
        "              pagelist = page_list()\n",
        "              #  print(page_list)\n",
        "              #  print(pagelist)\n",
        "              page_array = normalize(pagelist)\n",
        "              #  print(page_array.shape)\n",
        "              #  print(page_array)\n",
        "              im_arr = mat_convert(page_array)\n",
        "              n = len(page_array)\n",
        "              byte_list = list()\n",
        "              n1 = len(pagelist)\n",
        "              byte_array = countbyte(bytefile) \n",
        "              # print(len(byte_array)) \n",
        "              if(len(byte_array) < 65536):\n",
        "                n = 65536-len(byte_array)\n",
        "                while(n > 0):\n",
        "                  byte_array.append(0)\n",
        "                  n -= 1\n",
        "              byte_array1 = np.reshape(byte_array,(256,256))\n",
        "              final = np.dstack([im_arr,byte_array1])\n",
        "              if len(final) > 0:\n",
        "                im = Image.fromarray((final).astype(np.uint8))   \n",
        "                im.save('/content/drive/MyDrive/grayimages/' + sorted_files[i] + '.png', \"PNG\")\n",
        "                count += 1\n",
        "                print(count)\n",
        "           else:\n",
        "              continue\n",
        "         \n",
        "if __name__ == '__main__':\n",
        "  direct_conv()"
      ]
    },
    {
      "cell_type": "code",
      "source": [
        "import os\n",
        "one_file = os.listdir(DCT_LOC)\n",
        "print(len(one_file))"
      ],
      "metadata": {
        "id": "jlWF5HVYf_gu",
        "outputId": "52daed12-a223-46f1-8247-96340fc34deb",
        "colab": {
          "base_uri": "https://localhost:8080/"
        }
      },
      "execution_count": null,
      "outputs": [
        {
          "output_type": "stream",
          "name": "stdout",
          "text": [
            "8387\n"
          ]
        }
      ]
    },
    {
      "cell_type": "code",
      "execution_count": null,
      "metadata": {
        "colab": {
          "base_uri": "https://localhost:8080/",
          "height": 282
        },
        "id": "x51h7kfRRKQR",
        "outputId": "06ace32a-998e-4a92-c629-7e6fb2b47708"
      },
      "outputs": [
        {
          "output_type": "stream",
          "name": "stdout",
          "text": [
            "01IsoiSMh5gxyDYTl4CB.asm.png\n"
          ]
        },
        {
          "output_type": "display_data",
          "data": {
            "text/plain": [
              "<Figure size 432x288 with 1 Axes>"
            ],
            "image/png": "[encoded data removed]"
          },
          "metadata": {
            "needs_background": "light"
          }
        }
      ],
      "source": [
        "# histogram try for one image\n",
        "one_file = os.listdir(DCT_LOC)\n",
        "one_file.sort()\n",
        "one_file = one_file[0]\n",
        "print(one_file)\n",
        "img_1 = cv2.imread(DCT_LOC + '/' + one_file, 0) \n",
        "plt.hist(img_1.ravel(),256,[0,256])\n",
        "plt.show()"
      ]
    },
    {
      "cell_type": "code",
      "execution_count": null,
      "metadata": {
        "id": "TSyUtuUyRppH"
      },
      "outputs": [],
      "source": [
        "def compute_hist(x,bins=256):\n",
        "  h_arr = np.histogram(x,bins=bins)[0]\n",
        "  return h_arr/np.linalg.norm(h_arr)\n",
        "\n",
        "def hist_blocks(test_image,bins=256,windowsize_r=32,windowsize_c=32, stride_factor=1):\n",
        " \n",
        "# Define the window size\n",
        "  #windowsize_r = 32\n",
        "  #windowsize_c = 32\n",
        "\n",
        "  hist_array = []\n",
        "# Crop out the window and calculate the histogram\n",
        "  for r in range(0,test_image.shape[0], int(windowsize_r/stride_factor)):\n",
        "    for c in range(0,test_image.shape[1], int(windowsize_c/stride_factor)):              #test_image.shape[0] -> [0] accounts for dimension in x axis, [1] for y axis\n",
        "      window = test_image[r:r+windowsize_r,c:c+windowsize_c]\n",
        "      #hist = np.histogram(window,bins=range(0,260,4))[0]\n",
        "      hist = compute_hist(window,bins=bins)\n",
        "      hist_array.append(hist)\n",
        "  \n",
        "  return np.array(hist_array).reshape(-1)"
      ]
    },
    {
      "cell_type": "code",
      "execution_count": null,
      "metadata": {
        "colab": {
          "base_uri": "https://localhost:8080/",
          "height": 317
        },
        "id": "AC-pTlY3RZoA",
        "outputId": "3ed309da-3375-482e-d4fd-9fb6e04f9541"
      },
      "outputs": [
        {
          "output_type": "stream",
          "name": "stdout",
          "text": [
            "(16384,)\n",
            "[0.60721314 0.04309255 0.00783501 ... 0.00170169 0.00255253 0.19229064]\n"
          ]
        },
        {
          "output_type": "execute_result",
          "data": {
            "text/plain": [
              "[<matplotlib.lines.Line2D at 0x7f46990a0290>]"
            ]
          },
          "metadata": {},
          "execution_count": 6
        },
        {
          "output_type": "display_data",
          "data": {
            "text/plain": [
              "<Figure size 432x288 with 1 Axes>"
            ],
            "image/png": "[encoded data removed]"
          },
          "metadata": {
            "needs_background": "light"
          }
        }
      ],
      "source": [
        "one_file = os.listdir(DCT_LOC)\n",
        "one_file = min(one_file)\n",
        "image_for_hist = Image.open(DCT_LOC + '/' + one_file)\n",
        "image_array = np.asarray(image_for_hist)\n",
        "\n",
        "res_hist = hist_blocks(image_array)\n",
        "print(res_hist.shape)\n",
        "\n",
        "print(res_hist)\n",
        "plt.plot(res_hist)"
      ]
    },
    {
      "cell_type": "code",
      "execution_count": null,
      "metadata": {
        "id": "HXoz1-njRyKh"
      },
      "outputs": [],
      "source": [
        "def extract_runner(bin_width, group_row, group_col, _start, _stop, r_win, c_win,sf):\n",
        "  files = os.listdir(DCT_LOC)\n",
        "  files.sort()\n",
        "  meta_dic = {\"Id\": [], \"array\": []}\n",
        "  for counter, name in enumerate(islice(files, _start, _stop), _start):\n",
        "    meta_dic[\"Id\"].append(name)\n",
        "  #feature_set = []\n",
        "  for counter, name in tqdm(enumerate(islice(files, _start, _stop), _start)):\n",
        "    img_hist = Image.open(DCT_LOC + '/' + name)\n",
        "    img_array = np.asarray(img_hist)\n",
        "\n",
        "    res = hist_blocks(img_array, windowsize_c=c_win, windowsize_r=r_win, stride_factor=sf)\n",
        "    #res2 =list(res)\n",
        "    #feature_set.append(res)\n",
        "    meta_dic[\"array\"].append(res)\n",
        "  return meta_dic"
      ]
    },
    {
      "cell_type": "code",
      "execution_count": null,
      "metadata": {
        "colab": {
          "base_uri": "https://localhost:8080/"
        },
        "id": "tSb7fechR1Tx",
        "outputId": "599cf1f0-5616-4f9e-c0f3-be508d889ca1"
      },
      "outputs": [
        {
          "output_type": "stream",
          "name": "stderr",
          "text": [
            "4095it [03:57, 17.24it/s] "
          ]
        },
        {
          "output_type": "stream",
          "name": "stdout",
          "text": [
            "2\n"
          ]
        },
        {
          "output_type": "stream",
          "name": "stderr",
          "text": [
            "\n"
          ]
        }
      ],
      "source": [
        "feature_1 = extract_runner(0, 0, 0, 0, 4095, 64, 64,1)\n",
        "\n",
        "print(len(feature_1))\n",
        "\n",
        "#ETF: 45 mins 10868"
      ]
    },
    {
      "cell_type": "code",
      "execution_count": null,
      "metadata": {
        "colab": {
          "base_uri": "https://localhost:8080/",
          "height": 285
        },
        "id": "fdt8zpyrR6az",
        "outputId": "f5f2bd1c-f07b-41cb-b62f-38dd665f1c79"
      },
      "outputs": [
        {
          "output_type": "execute_result",
          "data": {
            "text/plain": [
              "<function matplotlib.pyplot.show>"
            ]
          },
          "metadata": {},
          "execution_count": 9
        },
        {
          "output_type": "display_data",
          "data": {
            "text/plain": [
              "<Figure size 432x288 with 1 Axes>"
            ],
            "image/png": "[encoded data removed]"
          },
          "metadata": {
            "needs_background": "light"
          }
        }
      ],
      "source": [
        "len(feature_1['array'][0])\n",
        "\n",
        "yyy = []\n",
        "xxx = []\n",
        "for i in range(256):\n",
        "  yyy.append(feature_1['array'][0][i])\n",
        "  xxx.append(i)\n",
        "\n",
        "plt.hist(yyy, bins=256)\n",
        "plt.show"
      ]
    },
    {
      "cell_type": "code",
      "source": [
        "labels = pd.read_csv(TRAIN_LABEL)"
      ],
      "metadata": {
        "id": "Rb1Aqpw7gGhg"
      },
      "execution_count": null,
      "outputs": []
    },
    {
      "cell_type": "code",
      "source": [
        "sorted_labels = labels.sort_values(by=[\"Id\"], ascending = True)\n",
        "sorted_labels"
      ],
      "metadata": {
        "colab": {
          "base_uri": "https://localhost:8080/",
          "height": 424
        },
        "id": "czGLWg3uggVz",
        "outputId": "e76608d3-4095-43c1-94af-197608b2442b"
      },
      "execution_count": null,
      "outputs": [
        {
          "output_type": "execute_result",
          "data": {
            "text/plain": [
              "                        Id  Class\n",
              "1541  01IsoiSMh5gxyDYTl4CB      2\n",
              "0     01kcPWA9K2BOxQeS5Rju      1\n",
              "1542  02JqQ7H3yEoD8viYWlmS      2\n",
              "1543  02K5GMYITj7bBoAisEmD      2\n",
              "1544  02MRILoE6rNhmt7FUi45      2\n",
              "...                    ...    ...\n",
              "3974  kjHCv9qNRiPUIWzdGnuY      2\n",
              "3988  kmf3FnduMt5Re2NZTpLG      2\n",
              "4010  kqvJp5E0wbWgu9mnzSQB      2\n",
              "4015  ksKnqcBVTC0a3zSGoveR      2\n",
              "4017  ksTyZ4jN21lBiC9UYOGe      2\n",
              "\n",
              "[4095 rows x 2 columns]"
            ],
            "text/html": [
              "\n",
              "  <div id=\"df-d3888ca1-65ce-4aa9-ba07-466382755c2b\">\n",
              "    <div class=\"colab-df-container\">\n",
              "      <div>\n",
              "<style scoped>\n",
              "    .dataframe tbody tr th:only-of-type {\n",
              "        vertical-align: middle;\n",
              "    }\n",
              "\n",
              "    .dataframe tbody tr th {\n",
              "        vertical-align: top;\n",
              "    }\n",
              "\n",
              "    .dataframe thead th {\n",
              "        text-align: right;\n",
              "    }\n",
              "</style>\n",
              "<table border=\"1\" class=\"dataframe\">\n",
              "  <thead>\n",
              "    <tr style=\"text-align: right;\">\n",
              "      <th></th>\n",
              "      <th>Id</th>\n",
              "      <th>Class</th>\n",
              "    </tr>\n",
              "  </thead>\n",
              "  <tbody>\n",
              "    <tr>\n",
              "      <th>1541</th>\n",
              "      <td>01IsoiSMh5gxyDYTl4CB</td>\n",
              "      <td>2</td>\n",
              "    </tr>\n",
              "    <tr>\n",
              "      <th>0</th>\n",
              "      <td>01kcPWA9K2BOxQeS5Rju</td>\n",
              "      <td>1</td>\n",
              "    </tr>\n",
              "    <tr>\n",
              "      <th>1542</th>\n",
              "      <td>02JqQ7H3yEoD8viYWlmS</td>\n",
              "      <td>2</td>\n",
              "    </tr>\n",
              "    <tr>\n",
              "      <th>1543</th>\n",
              "      <td>02K5GMYITj7bBoAisEmD</td>\n",
              "      <td>2</td>\n",
              "    </tr>\n",
              "    <tr>\n",
              "      <th>1544</th>\n",
              "      <td>02MRILoE6rNhmt7FUi45</td>\n",
              "      <td>2</td>\n",
              "    </tr>\n",
              "    <tr>\n",
              "      <th>...</th>\n",
              "      <td>...</td>\n",
              "      <td>...</td>\n",
              "    </tr>\n",
              "    <tr>\n",
              "      <th>3974</th>\n",
              "      <td>kjHCv9qNRiPUIWzdGnuY</td>\n",
              "      <td>2</td>\n",
              "    </tr>\n",
              "    <tr>\n",
              "      <th>3988</th>\n",
              "      <td>kmf3FnduMt5Re2NZTpLG</td>\n",
              "      <td>2</td>\n",
              "    </tr>\n",
              "    <tr>\n",
              "      <th>4010</th>\n",
              "      <td>kqvJp5E0wbWgu9mnzSQB</td>\n",
              "      <td>2</td>\n",
              "    </tr>\n",
              "    <tr>\n",
              "      <th>4015</th>\n",
              "      <td>ksKnqcBVTC0a3zSGoveR</td>\n",
              "      <td>2</td>\n",
              "    </tr>\n",
              "    <tr>\n",
              "      <th>4017</th>\n",
              "      <td>ksTyZ4jN21lBiC9UYOGe</td>\n",
              "      <td>2</td>\n",
              "    </tr>\n",
              "  </tbody>\n",
              "</table>\n",
              "<p>4095 rows × 2 columns</p>\n",
              "</div>\n",
              "      <button class=\"colab-df-convert\" onclick=\"convertToInteractive('df-d3888ca1-65ce-4aa9-ba07-466382755c2b')\"\n",
              "              title=\"Convert this dataframe to an interactive table.\"\n",
              "              style=\"display:none;\">\n",
              "        \n",
              "  <svg xmlns=\"http://www.w3.org/2000/svg\" height=\"24px\"viewBox=\"0 0 24 24\"\n",
              "       width=\"24px\">\n",
              "    <path d=\"M0 0h24v24H0V0z\" fill=\"none\"/>\n",
              "    <path d=\"M18.56 5.44l.94 2.06.94-2.06 2.06-.94-2.06-.94-.94-2.06-.94 2.06-2.06.94zm-11 1L8.5 8.5l.94-2.06 2.06-.94-2.06-.94L8.5 2.5l-.94 2.06-2.06.94zm10 10l.94 2.06.94-2.06 2.06-.94-2.06-.94-.94-2.06-.94 2.06-2.06.94z\"/><path d=\"M17.41 7.96l-1.37-1.37c-.4-.4-.92-.59-1.43-.59-.52 0-1.04.2-1.43.59L10.3 9.45l-7.72 7.72c-.78.78-.78 2.05 0 2.83L4 21.41c.39.39.9.59 1.41.59.51 0 1.02-.2 1.41-.59l7.78-7.78 2.81-2.81c.8-.78.8-2.07 0-2.86zM5.41 20L4 18.59l7.72-7.72 1.47 1.35L5.41 20z\"/>\n",
              "  </svg>\n",
              "      </button>\n",
              "      \n",
              "  <style>\n",
              "    .colab-df-container {\n",
              "      display:flex;\n",
              "      flex-wrap:wrap;\n",
              "      gap: 12px;\n",
              "    }\n",
              "\n",
              "    .colab-df-convert {\n",
              "      background-color: #E8F0FE;\n",
              "      border: none;\n",
              "      border-radius: 50%;\n",
              "      cursor: pointer;\n",
              "      display: none;\n",
              "      fill: #1967D2;\n",
              "      height: 32px;\n",
              "      padding: 0 0 0 0;\n",
              "      width: 32px;\n",
              "    }\n",
              "\n",
              "    .colab-df-convert:hover {\n",
              "      background-color: #E2EBFA;\n",
              "      box-shadow: 0px 1px 2px rgba(60, 64, 67, 0.3), 0px 1px 3px 1px rgba(60, 64, 67, 0.15);\n",
              "      fill: #174EA6;\n",
              "    }\n",
              "\n",
              "    [theme=dark] .colab-df-convert {\n",
              "      background-color: #3B4455;\n",
              "      fill: #D2E3FC;\n",
              "    }\n",
              "\n",
              "    [theme=dark] .colab-df-convert:hover {\n",
              "      background-color: #434B5C;\n",
              "      box-shadow: 0px 1px 3px 1px rgba(0, 0, 0, 0.15);\n",
              "      filter: drop-shadow(0px 1px 2px rgba(0, 0, 0, 0.3));\n",
              "      fill: #FFFFFF;\n",
              "    }\n",
              "  </style>\n",
              "\n",
              "      <script>\n",
              "        const buttonEl =\n",
              "          document.querySelector('#df-d3888ca1-65ce-4aa9-ba07-466382755c2b button.colab-df-convert');\n",
              "        buttonEl.style.display =\n",
              "          google.colab.kernel.accessAllowed ? 'block' : 'none';\n",
              "\n",
              "        async function convertToInteractive(key) {\n",
              "          const element = document.querySelector('#df-d3888ca1-65ce-4aa9-ba07-466382755c2b');\n",
              "          const dataTable =\n",
              "            await google.colab.kernel.invokeFunction('convertToInteractive',\n",
              "                                                     [key], {});\n",
              "          if (!dataTable) return;\n",
              "\n",
              "          const docLinkHtml = 'Like what you see? Visit the ' +\n",
              "            '<a target=\"_blank\" href=https://colab.research.google.com/notebooks/data_table.ipynb>data table notebook</a>'\n",
              "            + ' to learn more about interactive tables.';\n",
              "          element.innerHTML = '';\n",
              "          dataTable['output_type'] = 'display_data';\n",
              "          await google.colab.output.renderOutput(dataTable, element);\n",
              "          const docLink = document.createElement('div');\n",
              "          docLink.innerHTML = docLinkHtml;\n",
              "          element.appendChild(docLink);\n",
              "        }\n",
              "      </script>\n",
              "    </div>\n",
              "  </div>\n",
              "  "
            ]
          },
          "metadata": {},
          "execution_count": 11
        }
      ]
    },
    {
      "cell_type": "code",
      "source": [
        "train_feature = pd.DataFrame(feature_1)\n",
        "tf2 = pd.DataFrame(train_feature['array'].to_list())  #ETF: 3min\n",
        "tf3 = pd.concat([train_feature, tf2], axis=1)\n",
        "tf_final = tf3.drop(columns=['array'])"
      ],
      "metadata": {
        "id": "vs_5HXQ8giXA"
      },
      "execution_count": null,
      "outputs": []
    },
    {
      "cell_type": "code",
      "source": [
        "tf_use = tf_final.drop(columns=['Id'])\n",
        "label_use = sorted_labels.drop(columns=['Id'])"
      ],
      "metadata": {
        "id": "aVpgQUB5giKU"
      },
      "execution_count": null,
      "outputs": []
    },
    {
      "cell_type": "code",
      "source": [
        "import pandas as pd\n",
        "import sklearn as sk"
      ],
      "metadata": {
        "id": "vGFiQ0xGhBYR"
      },
      "execution_count": null,
      "outputs": []
    },
    {
      "cell_type": "code",
      "source": [
        "X_train, X_test, y_train, y_test = sk.model_selection.train_test_split(tf_use, label_use, test_size=0.2, random_state=47)"
      ],
      "metadata": {
        "id": "Omqkq7OGgmyr"
      },
      "execution_count": null,
      "outputs": []
    },
    {
      "cell_type": "code",
      "source": [
        "print(X_train.shape, y_train.shape)"
      ],
      "metadata": {
        "colab": {
          "base_uri": "https://localhost:8080/"
        },
        "id": "TugRHXblgoic",
        "outputId": "5ad3c0de-9e86-47b8-d3c2-a150a54269cb"
      },
      "execution_count": null,
      "outputs": [
        {
          "output_type": "stream",
          "name": "stdout",
          "text": [
            "(3276, 4096) (3276, 1)\n"
          ]
        }
      ]
    },
    {
      "cell_type": "markdown",
      "source": [
        "RANDOM FOREST"
      ],
      "metadata": {
        "id": "6XCBnFVTGnih"
      }
    },
    {
      "cell_type": "code",
      "source": [
        "from sklearn.ensemble import RandomForestClassifier\n",
        "rfc = sk.ensemble.RandomForestClassifier(n_estimators=100)\n",
        "rfc.fit(X_train,y_train)\n",
        "y_pred_rfc = rfc.predict(X_test)"
      ],
      "metadata": {
        "colab": {
          "base_uri": "https://localhost:8080/"
        },
        "id": "szBDIg-YgqMP",
        "outputId": "9b7d2a37-7d24-472c-940f-4f254b33b4e2"
      },
      "execution_count": null,
      "outputs": [
        {
          "output_type": "stream",
          "name": "stderr",
          "text": [
            "/usr/local/lib/python3.7/dist-packages/ipykernel_launcher.py:3: DataConversionWarning: A column-vector y was passed when a 1d array was expected. Please change the shape of y to (n_samples,), for example using ravel().\n",
            "  This is separate from the ipykernel package so we can avoid doing imports until\n"
          ]
        }
      ]
    },
    {
      "cell_type": "code",
      "source": [
        "print(sk.metrics.classification_report(y_test, y_pred_rfc))"
      ],
      "metadata": {
        "colab": {
          "base_uri": "https://localhost:8080/"
        },
        "id": "_IlWQVNVgs9J",
        "outputId": "75239dfa-68f9-4b0e-be01-9506d93de0bd"
      },
      "execution_count": null,
      "outputs": [
        {
          "output_type": "stream",
          "name": "stdout",
          "text": [
            "              precision    recall  f1-score   support\n",
            "\n",
            "           1       0.38      0.14      0.21       308\n",
            "           2       0.61      0.86      0.71       500\n",
            "           3       0.00      0.00      0.00        11\n",
            "\n",
            "    accuracy                           0.58       819\n",
            "   macro avg       0.33      0.33      0.31       819\n",
            "weighted avg       0.51      0.58      0.51       819\n",
            "\n"
          ]
        },
        {
          "output_type": "stream",
          "name": "stderr",
          "text": [
            "/usr/local/lib/python3.7/dist-packages/sklearn/metrics/_classification.py:1318: UndefinedMetricWarning: Precision and F-score are ill-defined and being set to 0.0 in labels with no predicted samples. Use `zero_division` parameter to control this behavior.\n",
            "  _warn_prf(average, modifier, msg_start, len(result))\n",
            "/usr/local/lib/python3.7/dist-packages/sklearn/metrics/_classification.py:1318: UndefinedMetricWarning: Precision and F-score are ill-defined and being set to 0.0 in labels with no predicted samples. Use `zero_division` parameter to control this behavior.\n",
            "  _warn_prf(average, modifier, msg_start, len(result))\n",
            "/usr/local/lib/python3.7/dist-packages/sklearn/metrics/_classification.py:1318: UndefinedMetricWarning: Precision and F-score are ill-defined and being set to 0.0 in labels with no predicted samples. Use `zero_division` parameter to control this behavior.\n",
            "  _warn_prf(average, modifier, msg_start, len(result))\n"
          ]
        }
      ]
    },
    {
      "cell_type": "code",
      "source": [
        ""
      ],
      "metadata": {
        "id": "SDK4dsi9lvH_"
      },
      "execution_count": null,
      "outputs": []
    },
    {
      "cell_type": "markdown",
      "source": [
        "XGBoost"
      ],
      "metadata": {
        "id": "jABekONrz6Q1"
      }
    },
    {
      "cell_type": "code",
      "source": [
        "import xgboost as xgb\n",
        "from sklearn.metrics import mean_squared_error"
      ],
      "metadata": {
        "id": "9EDdZEcNz7g6"
      },
      "execution_count": null,
      "outputs": []
    },
    {
      "cell_type": "code",
      "source": [
        "xg_reg = xgb.XGBRegressor(objective ='reg:linear', colsample_bytree = 0.3, learning_rate = 0.1,\n",
        "                max_depth = 5, alpha = 10, n_estimators = 100)"
      ],
      "metadata": {
        "id": "CykPDUzPz80I"
      },
      "execution_count": null,
      "outputs": []
    },
    {
      "cell_type": "code",
      "source": [
        "xg_reg.fit(X_train,y_train)\n",
        "\n",
        "preds = xg_reg.predict(X_test)"
      ],
      "metadata": {
        "colab": {
          "base_uri": "https://localhost:8080/"
        },
        "id": "dNfRUO3u0Crl",
        "outputId": "ef92139c-ea48-4393-fe26-7993977962f3"
      },
      "execution_count": null,
      "outputs": [
        {
          "output_type": "stream",
          "name": "stdout",
          "text": [
            "[08:40:35] WARNING: /workspace/src/objective/regression_obj.cu:152: reg:linear is now deprecated in favor of reg:squarederror.\n"
          ]
        }
      ]
    },
    {
      "cell_type": "code",
      "source": [
        "rmse = np.sqrt(mean_squared_error(y_test, preds))\n",
        "print(\"RMSE: %f\" % (rmse))"
      ],
      "metadata": {
        "colab": {
          "base_uri": "https://localhost:8080/"
        },
        "id": "4Tv4kQyC1coq",
        "outputId": "09210129-2653-41d6-b846-6e0301d7cf38"
      },
      "execution_count": null,
      "outputs": [
        {
          "output_type": "stream",
          "name": "stdout",
          "text": [
            "RMSE: 0.529589\n"
          ]
        }
      ]
    },
    {
      "cell_type": "code",
      "source": [
        "csvfile = open('trainLabels.csv', 'r').readlines()\n",
        "filename = 2\n",
        "for i in range(len(csvfile)):\n",
        "  if i % 4096 == 0:\n",
        "    open(str(filename) + '.csv', 'w+').writelines(csvfile[i:i+4096])\n",
        "    filename += 1"
      ],
      "metadata": {
        "id": "A4X3GN0A2pLz"
      },
      "execution_count": null,
      "outputs": []
    },
    {
      "cell_type": "markdown",
      "source": [
        "ADABoost"
      ],
      "metadata": {
        "id": "xJTeLxpWDeqZ"
      }
    },
    {
      "cell_type": "code",
      "source": [
        "from sklearn.ensemble import AdaBoostClassifier\n"
      ],
      "metadata": {
        "id": "ChWUtVZVDbjV"
      },
      "execution_count": null,
      "outputs": []
    },
    {
      "cell_type": "code",
      "source": [
        "abc = AdaBoostClassifier(n_estimators=100,learning_rate=0.1)\n",
        "model = abc.fit(X_train, y_train)\n",
        "y_pred = model.predict(X_test)"
      ],
      "metadata": {
        "colab": {
          "base_uri": "https://localhost:8080/"
        },
        "id": "Vg0OEiVlEFrA",
        "outputId": "721fd1a3-f690-4977-a365-9cdcff0c7ec7"
      },
      "execution_count": null,
      "outputs": [
        {
          "output_type": "stream",
          "name": "stderr",
          "text": [
            "/usr/local/lib/python3.7/dist-packages/sklearn/utils/validation.py:993: DataConversionWarning: A column-vector y was passed when a 1d array was expected. Please change the shape of y to (n_samples, ), for example using ravel().\n",
            "  y = column_or_1d(y, warn=True)\n"
          ]
        }
      ]
    },
    {
      "cell_type": "code",
      "source": [
        "from sklearn import metrics\n",
        "print(\"Accuracy:\",metrics.accuracy_score(y_test, y_pred))"
      ],
      "metadata": {
        "colab": {
          "base_uri": "https://localhost:8080/"
        },
        "id": "WdRhAtS5OiJV",
        "outputId": "ca179e7b-f22e-42ad-efd8-6dde7e383009"
      },
      "execution_count": null,
      "outputs": [
        {
          "output_type": "stream",
          "name": "stdout",
          "text": [
            "Accuracy: 0.6105006105006106\n"
          ]
        }
      ]
    }
  ],
  "metadata": {
    "colab": {
      "collapsed_sections": [],
      "name": "malware_gray",
      "provenance": [],
      "authorship_tag": "ABX9TyNAmuTUBxVThLmZB+NrwZhu",
      "include_colab_link": true
    },
    "kernelspec": {
      "display_name": "Python 3",
      "name": "python3"
    },
    "language_info": {
      "name": "python"
    }
  },
  "nbformat": 4,
  "nbformat_minor": 0
}